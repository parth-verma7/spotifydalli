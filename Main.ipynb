{
 "cells": [
  {
   "cell_type": "markdown",
   "metadata": {},
   "source": [
    "# This project is used for API Drops hackathon | IIIT Lucknow"
   ]
  },
  {
   "cell_type": "code",
   "execution_count": 11,
   "metadata": {},
   "outputs": [
    {
     "name": "stdout",
     "output_type": "stream",
     "text": [
      "Searching for \"Lovely\" by Billie Ellish...\n",
      "Done.\n"
     ]
    }
   ],
   "source": [
    "import os\n",
    "import lyricsgenius\n",
    "\n",
    "token=os.getenv('GENIUS_TOKEN')\n",
    "genius=lyricsgenius.Genius(token)\n",
    "\n",
    "song_name=input(\"Enter song name: \")\n",
    "artist_name=input(\"Enter artist name: \")\n",
    "songs=genius.search_song(song_name,artist_name)\n",
    "lyricss=songs.lyrics\n",
    "lyricss=lyricss.strip()\n",
    "\n",
    "text_file = open(\"lyrics.txt\", \"w\")\n",
    "text_file.write(lyricss)\n",
    "text_file.close()\n"
   ]
  },
  {
   "cell_type": "code",
   "execution_count": 12,
   "metadata": {},
   "outputs": [
    {
     "data": {
      "text/plain": [
       "['Thought I found a way',\n",
       " 'Thought I found a way out Found',\n",
       " 'But you never go away Never go away',\n",
       " 'So I guess I gotta stay now',\n",
       " \"Oh, I hope some day I'll make it out of here\"]"
      ]
     },
     "execution_count": 12,
     "metadata": {},
     "output_type": "execute_result"
    }
   ],
   "source": [
    "import openai\n",
    "\n",
    "lyrics=[]\n",
    "illegal_characters=('[',']','\\\\',':','?')\n",
    "f=open('lyrics.txt', 'r')\n",
    "for line in f.readlines():\n",
    "    if( len(line) <= 2):\n",
    "        continue\n",
    "    f = True\n",
    "    for char in line:\n",
    "        if( char in illegal_characters):\n",
    "            f = False\n",
    "            break\n",
    "    if not f:\n",
    "        continue\n",
    "    line = line.replace('(','').replace(')','')\n",
    "    lyrics.append(line.strip())\n",
    "\n",
    "lyrics = lyrics[:5]\n",
    "lyrics"
   ]
  },
  {
   "cell_type": "code",
   "execution_count": 13,
   "metadata": {},
   "outputs": [
    {
     "name": "stdout",
     "output_type": "stream",
     "text": [
      "Thought I found a way\n",
      "Thought I found a way out Found\n",
      "But you never go away Never go away\n",
      "So I guess I gotta stay now\n",
      "Oh, I hope some day I'll make it out of here\n"
     ]
    }
   ],
   "source": [
    "urls = []\n",
    "for sentence in lyrics:\n",
    "    response = openai.Image.create(\n",
    "        prompt=sentence,\n",
    "        n=1,\n",
    "        size=\"256x256\"\n",
    "    )   \n",
    "    print(sentence)\n",
    "    image_url = response['data'][0]['url']\n",
    "    urls.append(image_url)\n"
   ]
  },
  {
   "cell_type": "code",
   "execution_count": 14,
   "metadata": {},
   "outputs": [],
   "source": [
    "import urllib.request\n",
    "from PIL import Image\n",
    "i = 0\n",
    "for url in urls:\n",
    "    urllib.request.urlretrieve(url,f\"static/photo{i}.png\")\n",
    "    i+=1"
   ]
  },
  {
   "cell_type": "code",
   "execution_count": 15,
   "metadata": {},
   "outputs": [],
   "source": [
    "import os\n",
    "import cv2\n",
    "\n",
    "image_folder = 'static'\n",
    "video_name = f'{song_name}.avi'\n",
    "\n",
    "images = [img for img in os.listdir(image_folder) if img.endswith(\".png\")]\n",
    "frame = cv2.imread(os.path.join(image_folder, images[0]))\n",
    "height, width, layers = frame.shape\n",
    "\n",
    "video = cv2.VideoWriter(video_name, 0, 1, (width,height))\n",
    "\n",
    "for image in images:\n",
    "    video.write(cv2.imread(os.path.join(image_folder, image)))\n",
    "\n",
    "cv2.destroyAllWindows()\n",
    "video.release()"
   ]
  },
  {
   "cell_type": "code",
   "execution_count": null,
   "metadata": {},
   "outputs": [],
   "source": []
  }
 ],
 "metadata": {
  "kernelspec": {
   "display_name": "Python 3",
   "language": "python",
   "name": "python3"
  },
  "language_info": {
   "codemirror_mode": {
    "name": "ipython",
    "version": 3
   },
   "file_extension": ".py",
   "mimetype": "text/x-python",
   "name": "python",
   "nbconvert_exporter": "python",
   "pygments_lexer": "ipython3",
   "version": "3.10.7"
  },
  "orig_nbformat": 4,
  "vscode": {
   "interpreter": {
    "hash": "767d51c1340bd893661ea55ea3124f6de3c7a262a8b4abca0554b478b1e2ff90"
   }
  }
 },
 "nbformat": 4,
 "nbformat_minor": 2
}
